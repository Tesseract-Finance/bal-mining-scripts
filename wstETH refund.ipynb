{
 "cells": [
  {
   "cell_type": "code",
   "execution_count": 1,
   "metadata": {},
   "outputs": [],
   "source": [
    "import pandas as pd\n",
    "reports = {}\n",
    "for week in list(range(84,89)):\n",
    "    reports_dir = f'reports/{week}'\n",
    "    filename = '__ethereum_0x7f39C581F595B53c5cb19bD0b3f8dA6c935E2Ca0.json'\n",
    "    reports[week] = pd.read_json(reports_dir+'/'+filename, orient='index')\n",
    "    reports[week].columns = [week]"
   ]
  },
  {
   "cell_type": "code",
   "execution_count": 2,
   "metadata": {},
   "outputs": [
    {
     "data": {
      "text/html": [
       "<div>\n",
       "<style scoped>\n",
       "    .dataframe tbody tr th:only-of-type {\n",
       "        vertical-align: middle;\n",
       "    }\n",
       "\n",
       "    .dataframe tbody tr th {\n",
       "        vertical-align: top;\n",
       "    }\n",
       "\n",
       "    .dataframe thead th {\n",
       "        text-align: right;\n",
       "    }\n",
       "</style>\n",
       "<table border=\"1\" class=\"dataframe\">\n",
       "  <thead>\n",
       "    <tr style=\"text-align: right;\">\n",
       "      <th></th>\n",
       "      <th>84</th>\n",
       "      <th>85</th>\n",
       "      <th>86</th>\n",
       "      <th>87</th>\n",
       "      <th>88</th>\n",
       "    </tr>\n",
       "  </thead>\n",
       "  <tbody>\n",
       "    <tr>\n",
       "      <th>0x00861fEFCfEF0a542b0a6c90ce1eE575e257A6C7</th>\n",
       "      <td>0.000015</td>\n",
       "      <td>0.000012</td>\n",
       "      <td>0.000013</td>\n",
       "      <td>0.000014</td>\n",
       "      <td>0.000012</td>\n",
       "    </tr>\n",
       "    <tr>\n",
       "      <th>0x013fB7fEf023646bf4E76cB756206A742f31813e</th>\n",
       "      <td>0.000050</td>\n",
       "      <td>0.000039</td>\n",
       "      <td>0.000045</td>\n",
       "      <td>0.000045</td>\n",
       "      <td>0.000039</td>\n",
       "    </tr>\n",
       "    <tr>\n",
       "      <th>0x019c8F08C5D93d59311C067A42f966420B19aB03</th>\n",
       "      <td>0.000202</td>\n",
       "      <td>0.000157</td>\n",
       "      <td>0.000182</td>\n",
       "      <td>0.000185</td>\n",
       "      <td>0.000160</td>\n",
       "    </tr>\n",
       "    <tr>\n",
       "      <th>0x0412ED8438b5fAE246606909ef8ba365F9103783</th>\n",
       "      <td>0.024806</td>\n",
       "      <td>0.019296</td>\n",
       "      <td>0.022319</td>\n",
       "      <td>0.022711</td>\n",
       "      <td>0.019641</td>\n",
       "    </tr>\n",
       "    <tr>\n",
       "      <th>0x0444538cDFEd27287B98888DD02e691A244642a2</th>\n",
       "      <td>0.000025</td>\n",
       "      <td>0.000019</td>\n",
       "      <td>0.000022</td>\n",
       "      <td>0.000023</td>\n",
       "      <td>0.000020</td>\n",
       "    </tr>\n",
       "    <tr>\n",
       "      <th>...</th>\n",
       "      <td>...</td>\n",
       "      <td>...</td>\n",
       "      <td>...</td>\n",
       "      <td>...</td>\n",
       "      <td>...</td>\n",
       "    </tr>\n",
       "    <tr>\n",
       "      <th>0xee1e33029C2104993E4536Be502990284e77080d</th>\n",
       "      <td>0.025289</td>\n",
       "      <td>0.019671</td>\n",
       "      <td>0.022753</td>\n",
       "      <td>0.023153</td>\n",
       "      <td>0.020023</td>\n",
       "    </tr>\n",
       "    <tr>\n",
       "      <th>0xf56717F28cB611a08DE9AeD558d2a9574597B05f</th>\n",
       "      <td>0.003125</td>\n",
       "      <td>0.002431</td>\n",
       "      <td>0.002811</td>\n",
       "      <td>0.002861</td>\n",
       "      <td>0.002474</td>\n",
       "    </tr>\n",
       "    <tr>\n",
       "      <th>0xf6c239EBa307Cb2E054fa696664f2170b9219D98</th>\n",
       "      <td>0.000434</td>\n",
       "      <td>NaN</td>\n",
       "      <td>NaN</td>\n",
       "      <td>NaN</td>\n",
       "      <td>NaN</td>\n",
       "    </tr>\n",
       "    <tr>\n",
       "      <th>0xfF052381092420B7F24cc97FDEd9C0c17b2cbbB9</th>\n",
       "      <td>0.051612</td>\n",
       "      <td>0.040147</td>\n",
       "      <td>0.046437</td>\n",
       "      <td>0.047253</td>\n",
       "      <td>0.040865</td>\n",
       "    </tr>\n",
       "    <tr>\n",
       "      <th>0xfbaBD7A2f65E7EFd4e7E9fa4485ACC3c9cac27ad</th>\n",
       "      <td>0.000103</td>\n",
       "      <td>0.000080</td>\n",
       "      <td>0.000093</td>\n",
       "      <td>0.000094</td>\n",
       "      <td>0.000082</td>\n",
       "    </tr>\n",
       "  </tbody>\n",
       "</table>\n",
       "<p>221 rows × 5 columns</p>\n",
       "</div>"
      ],
      "text/plain": [
       "                                                  84        85        86  \\\n",
       "0x00861fEFCfEF0a542b0a6c90ce1eE575e257A6C7  0.000015  0.000012  0.000013   \n",
       "0x013fB7fEf023646bf4E76cB756206A742f31813e  0.000050  0.000039  0.000045   \n",
       "0x019c8F08C5D93d59311C067A42f966420B19aB03  0.000202  0.000157  0.000182   \n",
       "0x0412ED8438b5fAE246606909ef8ba365F9103783  0.024806  0.019296  0.022319   \n",
       "0x0444538cDFEd27287B98888DD02e691A244642a2  0.000025  0.000019  0.000022   \n",
       "...                                              ...       ...       ...   \n",
       "0xee1e33029C2104993E4536Be502990284e77080d  0.025289  0.019671  0.022753   \n",
       "0xf56717F28cB611a08DE9AeD558d2a9574597B05f  0.003125  0.002431  0.002811   \n",
       "0xf6c239EBa307Cb2E054fa696664f2170b9219D98  0.000434       NaN       NaN   \n",
       "0xfF052381092420B7F24cc97FDEd9C0c17b2cbbB9  0.051612  0.040147  0.046437   \n",
       "0xfbaBD7A2f65E7EFd4e7E9fa4485ACC3c9cac27ad  0.000103  0.000080  0.000093   \n",
       "\n",
       "                                                  87        88  \n",
       "0x00861fEFCfEF0a542b0a6c90ce1eE575e257A6C7  0.000014  0.000012  \n",
       "0x013fB7fEf023646bf4E76cB756206A742f31813e  0.000045  0.000039  \n",
       "0x019c8F08C5D93d59311C067A42f966420B19aB03  0.000185  0.000160  \n",
       "0x0412ED8438b5fAE246606909ef8ba365F9103783  0.022711  0.019641  \n",
       "0x0444538cDFEd27287B98888DD02e691A244642a2  0.000023  0.000020  \n",
       "...                                              ...       ...  \n",
       "0xee1e33029C2104993E4536Be502990284e77080d  0.023153  0.020023  \n",
       "0xf56717F28cB611a08DE9AeD558d2a9574597B05f  0.002861  0.002474  \n",
       "0xf6c239EBa307Cb2E054fa696664f2170b9219D98       NaN       NaN  \n",
       "0xfF052381092420B7F24cc97FDEd9C0c17b2cbbB9  0.047253  0.040865  \n",
       "0xfbaBD7A2f65E7EFd4e7E9fa4485ACC3c9cac27ad  0.000094  0.000082  \n",
       "\n",
       "[221 rows x 5 columns]"
      ]
     },
     "execution_count": 2,
     "metadata": {},
     "output_type": "execute_result"
    }
   ],
   "source": [
    "merge = pd.DataFrame()\n",
    "for week in list(range(84,89)):\n",
    "    merge = merge.join(reports[week], how='outer')\n",
    "merge"
   ]
  },
  {
   "cell_type": "code",
   "execution_count": 3,
   "metadata": {},
   "outputs": [
    {
     "data": {
      "text/plain": [
       "84    5.228465\n",
       "85    5.459192\n",
       "86    6.341634\n",
       "87    6.114761\n",
       "88    5.216811\n",
       "dtype: float64"
      ]
     },
     "execution_count": 3,
     "metadata": {},
     "output_type": "execute_result"
    }
   ],
   "source": [
    "merge.fillna(0).sum()"
   ]
  },
  {
   "cell_type": "code",
   "execution_count": 4,
   "metadata": {},
   "outputs": [
    {
     "data": {
      "text/plain": [
       "0x00861fEFCfEF0a542b0a6c90ce1eE575e257A6C7    0.000065\n",
       "0x013fB7fEf023646bf4E76cB756206A742f31813e    0.000218\n",
       "0x019c8F08C5D93d59311C067A42f966420B19aB03    0.000886\n",
       "0x0412ED8438b5fAE246606909ef8ba365F9103783    0.108772\n",
       "0x0444538cDFEd27287B98888DD02e691A244642a2    0.000109\n",
       "                                                ...   \n",
       "0xee1e33029C2104993E4536Be502990284e77080d    0.110890\n",
       "0xf56717F28cB611a08DE9AeD558d2a9574597B05f    0.013702\n",
       "0xf6c239EBa307Cb2E054fa696664f2170b9219D98    0.000434\n",
       "0xfF052381092420B7F24cc97FDEd9C0c17b2cbbB9    0.226314\n",
       "0xfbaBD7A2f65E7EFd4e7E9fa4485ACC3c9cac27ad    0.000453\n",
       "Length: 221, dtype: float64"
      ]
     },
     "execution_count": 4,
     "metadata": {},
     "output_type": "execute_result"
    }
   ],
   "source": [
    "aggregate = merge.fillna(0).sum(axis=1)\n",
    "aggregate"
   ]
  },
  {
   "cell_type": "code",
   "execution_count": 5,
   "metadata": {},
   "outputs": [
    {
     "data": {
      "text/plain": [
       "<AxesSubplot:>"
      ]
     },
     "execution_count": 5,
     "metadata": {},
     "output_type": "execute_result"
    },
    {
     "data": {
      "image/png": "[encoded data removed]",
      "text/plain": [
       "<Figure size 432x288 with 1 Axes>"
      ]
     },
     "metadata": {
      "needs_background": "light"
     },
     "output_type": "display_data"
    }
   ],
   "source": [
    "aggregate.hist()"
   ]
  },
  {
   "cell_type": "code",
   "execution_count": 6,
   "metadata": {},
   "outputs": [
    {
     "data": {
      "text/plain": [
       "<AxesSubplot:>"
      ]
     },
     "execution_count": 6,
     "metadata": {},
     "output_type": "execute_result"
    },
    {
     "data": {
      "image/png": "[encoded data removed]",
      "text/plain": [
       "<Figure size 432x288 with 1 Axes>"
      ]
     },
     "metadata": {
      "needs_background": "light"
     },
     "output_type": "display_data"
    }
   ],
   "source": [
    "aggregate[aggregate<1].hist()"
   ]
  },
  {
   "cell_type": "code",
   "execution_count": 7,
   "metadata": {},
   "outputs": [],
   "source": [
    "import json\n",
    "precision = 7\n",
    "export_data = aggregate[aggregate >= 1/10**(precision)]\n",
    "export = export_data.apply(lambda x: format(x, f'.{precision}f'))\n",
    "export_json = export.to_json()\n",
    "parsed_export = json.loads(export_json)\n",
    "with open('reports/wsteth_refund.json', \"w\") as write_file:\n",
    "    json.dump(parsed_export, write_file, indent=4)"
   ]
  },
  {
   "cell_type": "code",
   "execution_count": 8,
   "metadata": {},
   "outputs": [
    {
     "data": {
      "text/plain": [
       "count    2.210000e+02\n",
       "mean     1.283297e-01\n",
       "std      7.509813e-01\n",
       "min      1.000000e-07\n",
       "25%      4.345300e-04\n",
       "50%      2.383950e-03\n",
       "75%      1.091058e-02\n",
       "max      8.344051e+00\n",
       "dtype: float64"
      ]
     },
     "execution_count": 8,
     "metadata": {},
     "output_type": "execute_result"
    }
   ],
   "source": [
    "export_data.describe()"
   ]
  },
  {
   "cell_type": "code",
   "execution_count": 9,
   "metadata": {},
   "outputs": [
    {
     "data": {
      "text/plain": [
       "0xe4C5557a1F859874D5e124747eF5881a449f9712    0.010056\n",
       "0xa50D7C035a2c4997A75186AD24c37FEcfB19737D    0.010798\n",
       "0xA3cb7D24b9cB850CF22240043d59bf8E5a76CA61    0.010868\n",
       "0x97E8cd7ba76aaAA391B9C31B387FCb3b1cf6F850    0.010911\n",
       "0x37e46caEfEF61D30E680cf754998B4A39e5d8325    0.011459\n",
       "0x32b487B44f4e7c6485209DbAB4e985Bea8dC0b06    0.012174\n",
       "0x6D64a7F2C03DF595B309bC7f7900779aFC17d484    0.013035\n",
       "0x241D6DF6B7C79556460Ab691Ed463781d9873f6a    0.013058\n",
       "0x8944f9a71b356B55614AA91C59DE555CB673174B    0.013118\n",
       "0xea3f89A52c2bD79D6182DDC2A531069c2079e782    0.013588\n",
       "0xf56717F28cB611a08DE9AeD558d2a9574597B05f    0.013702\n",
       "0x6F1Dde2EFAe685Bed35052360d08CB2E2EC2E295    0.013938\n",
       "0x4d73EF089CD9B59405eb303e08B76a4e8da3a1C9    0.014168\n",
       "0xcC15F837dBf16d9d7f311a7Ce19f495893497dd1    0.016324\n",
       "0x156daF376cfbDD938c470a227508B0ba022C998F    0.016521\n",
       "0xDf2b2c1DF64D58839320a07907d4181F336A737e    0.017494\n",
       "0x865f529F429Bd2500260F7A5A2530dC2e205f2B8    0.021587\n",
       "0x618f2d5932b4d29bda43A96Be1eEF390E1916e24    0.021776\n",
       "0x2c1EFDC1C9169bB4613b50ff3C3ec7f9E8922323    0.021795\n",
       "0xE32f0974f05E281bf101823cB57bf8D9BFcb01Ce    0.021994\n",
       "0xd56e9F604ba364d5Df09730afcF946845ACe6683    0.023957\n",
       "0x5A0344f8F7cA62A221d35cfFCC3826EB316125e4    0.025503\n",
       "0x32a59b87352e980dD6aB1bAF462696D28e63525D    0.027920\n",
       "0x7BfeA1979e58AA73beB34D4577272B5Ba16479fD    0.031564\n",
       "0x68A9857B0E540E5a800151D3E4A33037191A5Dc4    0.032665\n",
       "0x38ec31504f48C7e944567904d519f4059bE73387    0.033463\n",
       "0xDa1129be5271d7Fc5925aD60e3227f4b37b92Da3    0.043039\n",
       "0xB95Ced99AB14c3f41124C9D2bEa82e2FdCed1a1C    0.043456\n",
       "0x40DCBa8E2508DDAa687fc26f9491b8cca563C845    0.045666\n",
       "0xE2043B460e15B0ED323777D9E6F6063cBa307203    0.054430\n",
       "0x5e4568C4D8343052a06EC8AAB1e124AF08B73248    0.055190\n",
       "0xbA3C494F3b3937d1C8101ffBe1588023ad5Ea0A2    0.055615\n",
       "0xb4AaE31F259A3f1E23aDE494F2b905eD67c5addf    0.056467\n",
       "0x6cEd6E97baAB4F441d6342E0e9257e09F1aaFF35    0.067332\n",
       "0x97020c9eC66E0F59231918B1d2F167A66026AFF2    0.068333\n",
       "0x8627425d8B3c16d16683a1E1e17ff00A2596E05f    0.072012\n",
       "0xe3C9E09E49F75d7EC947484abf74579Ea5aa0e18    0.085410\n",
       "0x0DA0C3e52C977Ed3cBc641fF02DD271c3ED55aFe    0.088410\n",
       "0xbDDEb8b18EF1f4017951Cbe9D8682Af40b8CdCB0    0.095881\n",
       "0x0412ED8438b5fAE246606909ef8ba365F9103783    0.108772\n",
       "0xee1e33029C2104993E4536Be502990284e77080d    0.110890\n",
       "0x94A37c367508f089A02fd6dD18e678C70a7e9543    0.125281\n",
       "0xD211A02a0ADde56Bb7F9700f49d4Ba832aDc7dDf    0.151738\n",
       "0x85dd9Ab8f525eCB900683a39EC2cDD340122a80a    0.171927\n",
       "0x650F9607F1371a4B8f80d2949162aedb3A4a839E    0.180501\n",
       "0xFe219eE03396E4CB5a75335b7dCCc028f9264EB9    0.189951\n",
       "0xfF052381092420B7F24cc97FDEd9C0c17b2cbbB9    0.226314\n",
       "0x57Ef012861c4937A76B5D6061bE800199A2b9100    0.247117\n",
       "0x624eD28e12d3d010929cb2A400af73656D1f13dc    0.256776\n",
       "0x77693Ff03FD85F9181E5e577b8CABfdDaC00880A    0.355988\n",
       "0xE68d7A6C421e2d220B5840116008C9abdBCf53B2    0.370382\n",
       "0x6914FC70fAC4caB20a8922E900C4BA57fEECf8E1    0.380592\n",
       "0x4f58985B75EeC8f14C536878A19EAdF4a1960D6c    1.017139\n",
       "0x3C0AeA3576B0D70e581FF613248A74D56cDe0853    1.082915\n",
       "0x6555e1CC97d3cbA6eAddebBCD7Ca51d75771e0B8    1.505126\n",
       "0x16388463d60FFE0661Cf7F1f31a7D658aC790ff7    2.933070\n",
       "0x9d94EF33e7F8087117F85b3ff7b1d8F27E4053D5    3.068208\n",
       "0x849D52316331967b6fF1198e5E32A0eB168D039d    5.897839\n",
       "0x6c1Cb6986c947f44016406947b0fcC15ba3170B8    8.344051\n",
       "dtype: float64"
      ]
     },
     "execution_count": 9,
     "metadata": {},
     "output_type": "execute_result"
    }
   ],
   "source": [
    "export_data[export_data>0.01].sort_values()"
   ]
  },
  {
   "cell_type": "code",
   "execution_count": null,
   "metadata": {},
   "outputs": [],
   "source": []
  }
 ],
 "metadata": {
  "kernelspec": {
   "display_name": "Python 3",
   "language": "python",
   "name": "python3"
  },
  "language_info": {
   "codemirror_mode": {
    "name": "ipython",
    "version": 3
   },
   "file_extension": ".py",
   "mimetype": "text/x-python",
   "name": "python",
   "nbconvert_exporter": "python",
   "pygments_lexer": "ipython3",
   "version": "3.8.5"
  }
 },
 "nbformat": 4,
 "nbformat_minor": 4
}
